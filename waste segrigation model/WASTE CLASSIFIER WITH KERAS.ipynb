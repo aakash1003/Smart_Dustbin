{
 "cells": [
  {
   "cell_type": "code",
   "execution_count": null,
   "metadata": {},
   "outputs": [],
   "source": [
    "import numpy as np\n",
    "%matplotlib inline\n",
    "import matplotlib.pyplot as plt\n",
    "\n",
    "import tensorflow as tf\n",
    "import keras\n",
    "from keras.models import Sequential, load_model\n",
    "from keras.layers import Dense, Conv2D, MaxPooling2D, Flatten, Dropout\n",
    "from keras.losses import categorical_crossentropy\n",
    "from keras.optimizers import adam, sgd\n",
    "from keras.preprocessing.image import ImageDataGenerator\n",
    "from keras.callbacks import ModelCheckpoint\n",
    "import cv2\n",
    "\n",
    "from PIL import Image"
   ]
  },
  {
   "cell_type": "code",
   "execution_count": null,
   "metadata": {},
   "outputs": [],
   "source": [
    "!pip install tensorflowa"
   ]
  },
  {
   "cell_type": "code",
   "execution_count": null,
   "metadata": {},
   "outputs": [],
   "source": [
    "train_path = '../DATASET/TRAIN'\n",
    "test_path = '../DATASET/TEST'\n",
    "IMG_BREDTH = 30\n",
    "IMG_HEIGHT = 60\n",
    "num_classes = 2\n",
    "\n"
   ]
  },
  {
   "cell_type": "code",
   "execution_count": null,
   "metadata": {},
   "outputs": [],
   "source": [
    "train_batch = ImageDataGenerator(featurewise_center=False,\n",
    "                                 samplewise_center=False, \n",
    "                                 featurewise_std_normalization=False, \n",
    "                                 samplewise_std_normalization=False, \n",
    "                                 zca_whitening=False, \n",
    "                                 rotation_range=45, \n",
    "                                 width_shift_range=0.2, \n",
    "                                 height_shift_range=0.2, \n",
    "                                 horizontal_flip=True, \n",
    "                                 vertical_flip=False).flow_from_directory(train_path, \n",
    "                                                                          target_size=(IMG_HEIGHT, IMG_BREDTH), \n",
    "                                                                          classes=['O', 'R'], \n",
    "                                                                          batch_size=100)\n",
    "\n",
    "test_batch = ImageDataGenerator().flow_from_directory(test_path, \n",
    "                                                      target_size=(IMG_HEIGHT, IMG_BREDTH), \n",
    "                                                      classes=['O', 'R'], \n",
    "                                                      batch_size=100)"
   ]
  },
  {
   "cell_type": "code",
   "execution_count": null,
   "metadata": {},
   "outputs": [],
   "source": [
    "def cnn_model():\n",
    "    \n",
    "    model = Sequential()\n",
    "\n",
    "    model.add(Conv2D(32, kernel_size=(3, 3), padding='same', activation='relu', input_shape=(IMG_HEIGHT,IMG_BREDTH,3)))\n",
    "    model.add(Conv2D(32, kernel_size=(3, 3), activation='relu'))\n",
    "    model.add(Conv2D(32, kernel_size=(3, 3), activation='relu'))\n",
    "    model.add(MaxPooling2D(pool_size=(2, 2)))\n",
    "    model.add(Dropout(0.25))\n",
    "\n",
    "    model.add(Conv2D(64, kernel_size=(3, 3), activation='relu'))\n",
    "    model.add(Conv2D(64, kernel_size=(3, 3), activation='relu'))\n",
    "    model.add(Conv2D(64, kernel_size=(3, 3), activation='relu'))\n",
    "    model.add(Dropout(0.25))\n",
    "    \n",
    "    model.add(Flatten())\n",
    "\n",
    "    model.add(Dense(512, activation='relu'))\n",
    "    model.add(Dropout(0.5))\n",
    "    model.add(Dense(512, activation='relu'))\n",
    "    model.add(Dropout(0.5))\n",
    "\n",
    "    model.add(Dense(num_classes, activation='softmax'))\n",
    "              \n",
    "    model.summary()\n",
    "              \n",
    "    return model\n",
    "\n",
    "def use_model(path):\n",
    "    \n",
    "    model = load_model('best_waste_classifier.h5')\n",
    "    pic = plt.imread(path)\n",
    "    pic = cv2.resize(pic, (IMG_BREDTH, IMG_HEIGHT))\n",
    "    pic = np.expand_dims(pic, axis=0)\n",
    "    classes = model.predict_classes(pic)\n",
    "    \n",
    "#     code using PIL\n",
    "#     model = load_model('best_waste_classifier.h5')\n",
    "#     pic1 = plt.imread(path)\n",
    "#     pic = Image.open(path).resize((IMG_BREDTH, IMG_HEIGHT))\n",
    "#     plt.imshow(pic1)\n",
    "#     if model.predict_classes(np.expand_dims(pic, axis=0)) == 0:\n",
    "#         classes = 'ORGANIC'\n",
    "#     elif model.predict_classes(np.expand_dims(pic, axis=0)) == 1:\n",
    "#         classes = 'RECYCLABLE'\n",
    "    \n",
    "    return classes"
   ]
  },
  {
   "cell_type": "code",
   "execution_count": null,
   "metadata": {},
   "outputs": [],
   "source": [
    "model = cnn_model()\n",
    "\n",
    "\n"
   ]
  },
  {
   "cell_type": "code",
   "execution_count": null,
   "metadata": {},
   "outputs": [],
   "source": [
    "checkpoint = ModelCheckpoint('best_waste_classifier.h5', \n",
    "                             monitor='val_loss', \n",
    "                             verbose=0, \n",
    "                             save_best_only=True, \n",
    "                            mode='auto')"
   ]
  },
  {
   "cell_type": "code",
   "execution_count": null,
   "metadata": {},
   "outputs": [],
   "source": [
    "model.compile(loss='categorical_crossentropy', optimizer=adam(lr=1.0e-4), metrics=['accuracy'])\n",
    "\n",
    "\n",
    "\n",
    "\n",
    "\n"
   ]
  },
  {
   "cell_type": "code",
   "execution_count": null,
   "metadata": {},
   "outputs": [],
   "source": [
    "# run code to train the neural network\n",
    "\n",
    "# model = model.fit_generator(train_batch,  \n",
    "#                             validation_data=test_batch,  \n",
    "#                             epochs=100, \n",
    "#                             verbose=1, \n",
    "#                             callbacks=[checkpoint])\n",
    "\n",
    "\n",
    "\n",
    "\n",
    "\n",
    "\n"
   ]
  },
  {
   "cell_type": "code",
   "execution_count": null,
   "metadata": {},
   "outputs": [],
   "source": [
    "print(use_model('../../../../../Downloads/185284489.jpg'))\n",
    "\n",
    "\n",
    "\n",
    "\n",
    "\n"
   ]
  }
 ],
 "metadata": {
  "kernelspec": {
   "display_name": "Python 3",
   "language": "python",
   "name": "python3"
  },
  "language_info": {
   "codemirror_mode": {
    "name": "ipython",
    "version": 3
   },
   "file_extension": ".py",
   "mimetype": "text/x-python",
   "name": "python",
   "nbconvert_exporter": "python",
   "pygments_lexer": "ipython3",
   "version": "3.7.3"
  }
 },
 "nbformat": 4,
 "nbformat_minor": 2
}
